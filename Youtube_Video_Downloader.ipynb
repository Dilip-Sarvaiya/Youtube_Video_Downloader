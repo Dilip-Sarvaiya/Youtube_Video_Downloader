{
 "cells": [
  {
   "cell_type": "code",
   "execution_count": 15,
   "metadata": {},
   "outputs": [],
   "source": [
    "from tkinter import *\n",
    "from pytube import YouTube\n",
    "root = Tk()\n",
    "root.geometry('500x300')\n",
    "root.resizable(0,0)\n",
    "root.title(\"Dilip Sarvaiya's video downloader\")\n",
    "Label(root,text = 'Youtube Video Downloader', font ='arial 20 bold').pack()\n",
    "link = StringVar()\n",
    "Label(root, text = 'Paste Link Here:', font = 'arial 15 bold').place(x= 160 , y = 60)\n",
    "link_enter = Entry(root, width = 70,textvariable = link).place(x = 32, y = 90)\n",
    "def Downloader():     \n",
    "    url =YouTube(str(link.get()))\n",
    "    video = url.streams.first()\n",
    "    video.download('C:\\\\Users\\\\Admin\\\\Videos')\n",
    "    Label(root, text = 'DOWNLOADED', font = 'arial 15').place(x= 180 , y = 210)  \n",
    "Button(root,text = 'DOWNLOAD', font = 'arial 15 bold' ,bg = 'pale violet red', padx = 2, command = Downloader).place(x=180 ,y = 150)\n",
    "root.mainloop()"
   ]
  }
 ],
 "metadata": {
  "kernelspec": {
   "display_name": "Python 3",
   "language": "python",
   "name": "python3"
  },
  "language_info": {
   "codemirror_mode": {
    "name": "ipython",
    "version": 3
   },
   "file_extension": ".py",
   "mimetype": "text/x-python",
   "name": "python",
   "nbconvert_exporter": "python",
   "pygments_lexer": "ipython3",
   "version": "3.8.4"
  }
 },
 "nbformat": 4,
 "nbformat_minor": 4
}
